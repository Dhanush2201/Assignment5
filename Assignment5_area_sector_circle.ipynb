{
 "cells": [
  {
   "cell_type": "code",
   "execution_count": 3,
   "metadata": {},
   "outputs": [
    {
     "name": "stdout",
     "output_type": "stream",
     "text": [
      "enter the radius4\n",
      "enter the angle of sector30\n",
      "area of segment of circle is  4.1887902047863905\n"
     ]
    }
   ],
   "source": [
    "import math\n",
    "def sector(r,a):\n",
    "    return math.pi*r*r*(a/360)\n",
    "r=float(input(\"enter the radius\"))\n",
    "a=float(input(\"enter the angle of sector\"))\n",
    "print('area of segment of circle is ',sector(r,a))\n",
    "    "
   ]
  },
  {
   "cell_type": "code",
   "execution_count": null,
   "metadata": {},
   "outputs": [],
   "source": []
  }
 ],
 "metadata": {
  "kernelspec": {
   "display_name": "Python 3",
   "language": "python",
   "name": "python3"
  },
  "language_info": {
   "codemirror_mode": {
    "name": "ipython",
    "version": 3
   },
   "file_extension": ".py",
   "mimetype": "text/x-python",
   "name": "python",
   "nbconvert_exporter": "python",
   "pygments_lexer": "ipython3",
   "version": "3.7.6"
  }
 },
 "nbformat": 4,
 "nbformat_minor": 4
}
