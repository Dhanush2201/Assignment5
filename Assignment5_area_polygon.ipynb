{
 "cells": [
  {
   "cell_type": "code",
   "execution_count": 9,
   "metadata": {},
   "outputs": [
    {
     "name": "stdout",
     "output_type": "stream",
     "text": [
      "number of sides 5\n",
      "length of each sides 5\n",
      "area of regular polygon with 5 sides 43.011935\n"
     ]
    }
   ],
   "source": [
    "import math\n",
    "num=int(input('number of sides '))\n",
    "len=float(input('length of each sides '))\n",
    "area = (num * len ** 2)/(4 * math.tan(math.pi/num))\n",
    "print('area of regular polygon with',num,'sides %2f'%area)"
   ]
  },
  {
   "cell_type": "code",
   "execution_count": null,
   "metadata": {},
   "outputs": [],
   "source": []
  }
 ],
 "metadata": {
  "kernelspec": {
   "display_name": "Python 3",
   "language": "python",
   "name": "python3"
  },
  "language_info": {
   "codemirror_mode": {
    "name": "ipython",
    "version": 3
   },
   "file_extension": ".py",
   "mimetype": "text/x-python",
   "name": "python",
   "nbconvert_exporter": "python",
   "pygments_lexer": "ipython3",
   "version": "3.7.6"
  }
 },
 "nbformat": 4,
 "nbformat_minor": 4
}
